{
  "cells": [
    {
      "cell_type": "code",
      "execution_count": 3,
      "metadata": {
        "id": "1dkV15-wpLUa"
      },
      "outputs": [],
      "source": [
        "!pip install -qqq easy-vqa tensorflow Pillow numpy"
      ]
    },
    {
      "cell_type": "code",
      "execution_count": 4,
      "metadata": {
        "id": "nUU_2upfpOMl"
      },
      "outputs": [],
      "source": [
        "import os\n",
        "import json\n",
        "import numpy as np\n",
        "from tensorflow.keras.preprocessing.text import Tokenizer\n",
        "from tensorflow.keras.preprocessing.image import load_img, img_to_array\n",
        "from tensorflow.keras.utils import to_categorical\n",
        "from easy_vqa import get_train_questions, get_test_questions, get_train_image_paths, get_test_image_paths, get_answers"
      ]
    },
    {
      "cell_type": "code",
      "execution_count": 5,
      "metadata": {
        "id": "0QnpzCyipRS6"
      },
      "outputs": [],
      "source": [
        "def setup():\n",
        "    print('\\n--- Reading questions...')\n",
        "    train_qs, train_answers, train_image_ids = get_train_questions()\n",
        "    test_qs, test_answers, test_image_ids = get_test_questions()\n",
        "    print(f'Read {len(train_qs)} training questions and {len(test_qs)} testing questions.')\n",
        "\n",
        "    print('\\n--- Reading answers...')\n",
        "    all_answers = get_answers()\n",
        "    num_answers = len(all_answers)\n",
        "    print(f'Found {num_answers} total answers:')\n",
        "    print(all_answers)\n",
        "\n",
        "    print('\\n--- Reading/processing images...')\n",
        "    def load_and_process_image(image_path):\n",
        "        # Load image, then scale and shift pixel values to [-0.5, 0.5]\n",
        "        im = img_to_array(load_img(image_path))\n",
        "        return im / 255 - 0.5\n",
        "\n",
        "    def read_images(paths):\n",
        "        ims = {}\n",
        "        for image_id, image_path in paths.items():\n",
        "            ims[image_id] = load_and_process_image(image_path)\n",
        "        return ims\n",
        "\n",
        "    train_ims = read_images(get_train_image_paths())\n",
        "    test_ims = read_images(get_test_image_paths())\n",
        "    im_shape = train_ims[0].shape\n",
        "    print(f'Read {len(train_ims)} training images and {len(test_ims)} testing images.')\n",
        "    print(f'Each image has shape {im_shape}.')\n",
        "\n",
        "    print('\\n--- Fitting question tokenizer...')\n",
        "    tokenizer = Tokenizer()\n",
        "    tokenizer.fit_on_texts(train_qs)\n",
        "\n",
        "    vocab_size = len(tokenizer.word_index) + 1\n",
        "    print(f'Vocab Size: {vocab_size}')\n",
        "    print(tokenizer.word_index)\n",
        "\n",
        "    print('\\n--- Converting questions to bags of words...')\n",
        "    train_X_seqs = tokenizer.texts_to_matrix(train_qs)\n",
        "    test_X_seqs = tokenizer.texts_to_matrix(test_qs)\n",
        "    print(f'Example question bag of words: {train_X_seqs[0]}')\n",
        "\n",
        "    print('\\n--- Creating model input images...')\n",
        "    train_X_ims = np.array([train_ims[id] for id in train_image_ids])\n",
        "    test_X_ims = np.array([test_ims[id] for id in test_image_ids])\n",
        "\n",
        "    print('\\n--- Creating model outputs...')\n",
        "    train_answer_indices = [all_answers.index(a) for a in train_answers]\n",
        "    test_answer_indices = [all_answers.index(a) for a in test_answers]\n",
        "    train_Y = to_categorical(train_answer_indices)\n",
        "    test_Y = to_categorical(test_answer_indices)\n",
        "    print(f'Example model output: {train_Y[0]}')\n",
        "\n",
        "    return (train_X_ims, train_X_seqs, train_Y, test_X_ims, test_X_seqs,\n",
        "            test_Y, im_shape, vocab_size, num_answers,\n",
        "            all_answers, test_qs, test_answer_indices)\n"
      ]
    },
    {
      "cell_type": "code",
      "execution_count": 8,
      "metadata": {
        "id": "08EnHOYtq2Mk"
      },
      "outputs": [],
      "source": [
        "from tensorflow.keras.models import Model\n",
        "from tensorflow.keras.layers import Input, Dense, Conv2D, MaxPooling2D, Flatten, Multiply\n",
        "from tensorflow.keras.optimizers import Adam\n",
        "\n",
        "def build_model(im_shape, vocab_size, num_answers, big_model=False):\n",
        "    # The CNN\n",
        "    im_input = Input(shape=im_shape)\n",
        "    x1 = Conv2D(8, 3, padding='same')(im_input)\n",
        "    x1 = MaxPooling2D()(x1)\n",
        "    x1 = Conv2D(16, 3, padding='same')(x1)\n",
        "    x1 = MaxPooling2D()(x1)\n",
        "    if big_model:\n",
        "        x1 = Conv2D(32, 3, padding='same')(x1)\n",
        "        x1 = MaxPooling2D()(x1)\n",
        "    x1 = Flatten()(x1)\n",
        "    x1 = Dense(32, activation='tanh')(x1)\n",
        "\n",
        "    # The question network\n",
        "    q_input = Input(shape=(vocab_size,))\n",
        "    x2 = Dense(32, activation='tanh')(q_input)\n",
        "    x2 = Dense(32, activation='tanh')(x2)\n",
        "\n",
        "    # Merge -> output\n",
        "    out = Multiply()([x1, x2])\n",
        "    out = Dense(32, activation='tanh')(out)\n",
        "    out = Dense(num_answers, activation='softmax')(out)\n",
        "\n",
        "    model = Model(inputs=[im_input, q_input], outputs=out)\n",
        "    model.compile(Adam(learning_rate=3e-4), loss='categorical_crossentropy', metrics=['accuracy'])\n",
        "\n",
        "    return model\n"
      ]
    },
    {
      "cell_type": "code",
      "execution_count": 9,
      "metadata": {
        "colab": {
          "base_uri": "https://localhost:8080/"
        },
        "id": "77yphrAGpqCs",
        "outputId": "6066c194-59d7-48ce-cce2-fa396138f47e"
      },
      "outputs": [
        {
          "output_type": "stream",
          "name": "stdout",
          "text": [
            "\n",
            "--- Reading questions...\n",
            "Read 38575 training questions and 9673 testing questions.\n",
            "\n",
            "--- Reading answers...\n",
            "Found 13 total answers:\n",
            "['circle', 'green', 'red', 'gray', 'yes', 'teal', 'black', 'rectangle', 'yellow', 'triangle', 'brown', 'blue', 'no']\n",
            "\n",
            "--- Reading/processing images...\n",
            "Read 4000 training images and 1000 testing images.\n",
            "Each image has shape (64, 64, 3).\n",
            "\n",
            "--- Fitting question tokenizer...\n",
            "Vocab Size: 27\n",
            "{'is': 1, 'shape': 2, 'the': 3, 'a': 4, 'image': 5, 'there': 6, 'not': 7, 'what': 8, 'present': 9, 'does': 10, 'contain': 11, 'in': 12, 'color': 13, 'no': 14, 'circle': 15, 'rectangle': 16, 'triangle': 17, 'brown': 18, 'yellow': 19, 'gray': 20, 'teal': 21, 'black': 22, 'red': 23, 'green': 24, 'blue': 25, 'of': 26}\n",
            "\n",
            "--- Converting questions to bags of words...\n",
            "Example question bag of words: [0. 1. 1. 1. 0. 0. 0. 0. 1. 0. 0. 0. 0. 0. 0. 0. 0. 0. 0. 0. 0. 0. 0. 0.\n",
            " 0. 1. 0.]\n",
            "\n",
            "--- Creating model input images...\n",
            "\n",
            "--- Creating model outputs...\n",
            "Example model output: [0. 0. 0. 0. 0. 0. 0. 1. 0. 0. 0. 0. 0.]\n",
            "\n",
            "--- Building model...\n",
            "\n",
            "--- Training model...\n",
            "Epoch 1/12\n",
            "\u001b[1m1206/1206\u001b[0m \u001b[32m━━━━━━━━━━━━━━━━━━━━\u001b[0m\u001b[37m\u001b[0m \u001b[1m98s\u001b[0m 79ms/step - accuracy: 0.5752 - loss: 1.2588 - val_accuracy: 0.6880 - val_loss: 0.7386\n",
            "Epoch 2/12\n",
            "\u001b[1m1206/1206\u001b[0m \u001b[32m━━━━━━━━━━━━━━━━━━━━\u001b[0m\u001b[37m\u001b[0m \u001b[1m142s\u001b[0m 79ms/step - accuracy: 0.6905 - loss: 0.7193 - val_accuracy: 0.7259 - val_loss: 0.6373\n",
            "Epoch 3/12\n",
            "\u001b[1m1206/1206\u001b[0m \u001b[32m━━━━━━━━━━━━━━━━━━━━\u001b[0m\u001b[37m\u001b[0m \u001b[1m140s\u001b[0m 78ms/step - accuracy: 0.7337 - loss: 0.6168 - val_accuracy: 0.7597 - val_loss: 0.5551\n",
            "Epoch 4/12\n",
            "\u001b[1m1206/1206\u001b[0m \u001b[32m━━━━━━━━━━━━━━━━━━━━\u001b[0m\u001b[37m\u001b[0m \u001b[1m142s\u001b[0m 77ms/step - accuracy: 0.7534 - loss: 0.5499 - val_accuracy: 0.7692 - val_loss: 0.5003\n",
            "Epoch 5/12\n",
            "\u001b[1m1206/1206\u001b[0m \u001b[32m━━━━━━━━━━━━━━━━━━━━\u001b[0m\u001b[37m\u001b[0m \u001b[1m142s\u001b[0m 78ms/step - accuracy: 0.7730 - loss: 0.4838 - val_accuracy: 0.7787 - val_loss: 0.4508\n",
            "Epoch 6/12\n",
            "\u001b[1m1206/1206\u001b[0m \u001b[32m━━━━━━━━━━━━━━━━━━━━\u001b[0m\u001b[37m\u001b[0m \u001b[1m143s\u001b[0m 78ms/step - accuracy: 0.7819 - loss: 0.4334 - val_accuracy: 0.7952 - val_loss: 0.4057\n",
            "Epoch 7/12\n",
            "\u001b[1m1206/1206\u001b[0m \u001b[32m━━━━━━━━━━━━━━━━━━━━\u001b[0m\u001b[37m\u001b[0m \u001b[1m95s\u001b[0m 79ms/step - accuracy: 0.8132 - loss: 0.3810 - val_accuracy: 0.8263 - val_loss: 0.3721\n",
            "Epoch 8/12\n",
            "\u001b[1m1206/1206\u001b[0m \u001b[32m━━━━━━━━━━━━━━━━━━━━\u001b[0m\u001b[37m\u001b[0m \u001b[1m142s\u001b[0m 79ms/step - accuracy: 0.8393 - loss: 0.3471 - val_accuracy: 0.8388 - val_loss: 0.3452\n",
            "Epoch 9/12\n",
            "\u001b[1m1206/1206\u001b[0m \u001b[32m━━━━━━━━━━━━━━━━━━━━\u001b[0m\u001b[37m\u001b[0m \u001b[1m141s\u001b[0m 79ms/step - accuracy: 0.8536 - loss: 0.3234 - val_accuracy: 0.8476 - val_loss: 0.3292\n",
            "Epoch 10/12\n",
            "\u001b[1m1206/1206\u001b[0m \u001b[32m━━━━━━━━━━━━━━━━━━━━\u001b[0m\u001b[37m\u001b[0m \u001b[1m142s\u001b[0m 79ms/step - accuracy: 0.8639 - loss: 0.3023 - val_accuracy: 0.8530 - val_loss: 0.3141\n",
            "Epoch 11/12\n",
            "\u001b[1m1206/1206\u001b[0m \u001b[32m━━━━━━━━━━━━━━━━━━━━\u001b[0m\u001b[37m\u001b[0m \u001b[1m143s\u001b[0m 80ms/step - accuracy: 0.8670 - loss: 0.2853 - val_accuracy: 0.8573 - val_loss: 0.3028\n",
            "Epoch 12/12\n",
            "\u001b[1m1206/1206\u001b[0m \u001b[32m━━━━━━━━━━━━━━━━━━━━\u001b[0m\u001b[37m\u001b[0m \u001b[1m94s\u001b[0m 78ms/step - accuracy: 0.8719 - loss: 0.2743 - val_accuracy: 0.8611 - val_loss: 0.2936\n"
          ]
        }
      ],
      "source": [
        "from tensorflow.keras.callbacks import ModelCheckpoint\n",
        "big_model = True\n",
        "\n",
        "(train_X_ims, train_X_seqs, train_Y, test_X_ims, test_X_seqs, test_Y,\n",
        " im_shape, vocab_size, num_answers, all_answers, test_qs, test_answer_indices\n",
        " ) = setup()\n",
        "\n",
        "print('\\n--- Building model...')\n",
        "model = build_model(im_shape, vocab_size, num_answers, big_model)\n",
        "checkpoint = ModelCheckpoint('model.keras', save_best_only=True)\n",
        "\n",
        "\n",
        "print('\\n--- Training model...')\n",
        "history = model.fit(\n",
        "       [train_X_ims, train_X_seqs],\n",
        "       train_Y,\n",
        "       validation_data=([test_X_ims, test_X_seqs], test_Y),\n",
        "       shuffle=True,\n",
        "       epochs=12,\n",
        "       callbacks=[checkpoint],\n",
        "   )\n"
      ]
    },
    {
      "cell_type": "code",
      "execution_count": 10,
      "metadata": {
        "colab": {
          "base_uri": "https://localhost:8080/",
          "height": 449
        },
        "id": "jJOhpvvvxPMv",
        "outputId": "2a45c653-3dcf-42d2-961e-f430cf0d0094"
      },
      "outputs": [
        {
          "output_type": "display_data",
          "data": {
            "text/plain": [
              "<Figure size 640x480 with 1 Axes>"
            ],
            "image/png": "[encoded data removed]"
          },
          "metadata": {}
        }
      ],
      "source": [
        "import matplotlib.pyplot as plt\n",
        "\n",
        "plt.plot(history.history['loss'], label='Training Loss')\n",
        "plt.plot(history.history['val_loss'], label='Validation Loss')\n",
        "plt.xlabel('Epoch')\n",
        "plt.ylabel('Loss')\n",
        "plt.legend()\n",
        "plt.show()"
      ]
    },
    {
      "cell_type": "code",
      "execution_count": 11,
      "metadata": {
        "id": "a5YBkTgqpym6",
        "colab": {
          "base_uri": "https://localhost:8080/"
        },
        "outputId": "0ae2bb7b-4b12-4fe5-8ee3-718eda3f98ef"
      },
      "outputs": [
        {
          "output_type": "stream",
          "name": "stdout",
          "text": [
            "\u001b[1m303/303\u001b[0m \u001b[32m━━━━━━━━━━━━━━━━━━━━\u001b[0m\u001b[37m\u001b[0m \u001b[1m7s\u001b[0m 24ms/step\n",
            "\n",
            "Statistics for answer 0, circle\n",
            "Min: 6.407580031009275e-07, Max: 0.7056384682655334, Mean: 0.04403254762291908\n",
            "\n",
            "Statistics for answer 1, green\n",
            "Min: 3.9985800981412467e-07, Max: 0.9977707266807556, Mean: 0.017554674297571182\n",
            "\n",
            "Statistics for answer 2, red\n",
            "Min: 2.5331226538582996e-07, Max: 0.9971308708190918, Mean: 0.01594706065952778\n",
            "\n",
            "Statistics for answer 3, gray\n",
            "Min: 8.971660747647547e-08, Max: 0.9918312430381775, Mean: 0.02006535604596138\n",
            "\n",
            "Statistics for answer 4, yes\n",
            "Min: 4.131415494157409e-07, Max: 0.9996820688247681, Mean: 0.37724927067756653\n",
            "\n",
            "Statistics for answer 5, teal\n",
            "Min: 1.049104358941122e-08, Max: 0.9930619597434998, Mean: 0.015484990552067757\n",
            "\n",
            "Statistics for answer 6, black\n",
            "Min: 1.3076419236313086e-07, Max: 0.9955019354820251, Mean: 0.01528855599462986\n",
            "\n",
            "Statistics for answer 7, rectangle\n",
            "Min: 1.2657224033318926e-06, Max: 0.8434981107711792, Mean: 0.050347700715065\n",
            "\n",
            "Statistics for answer 8, yellow\n",
            "Min: 1.7669830043587353e-08, Max: 0.9993081092834473, Mean: 0.017138028517365456\n",
            "\n",
            "Statistics for answer 9, triangle\n",
            "Min: 1.2771859303484234e-07, Max: 0.8171497583389282, Mean: 0.03551006317138672\n",
            "\n",
            "Statistics for answer 10, brown\n",
            "Min: 3.650085602657782e-07, Max: 0.9820776581764221, Mean: 0.01596241071820259\n",
            "\n",
            "Statistics for answer 11, blue\n",
            "Min: 1.964700580003864e-08, Max: 0.9972862601280212, Mean: 0.015661025419831276\n",
            "\n",
            "Statistics for answer 12, no\n",
            "Min: 9.996563221648103e-07, Max: 0.999762773513794, Mean: 0.35975828766822815\n"
          ]
        }
      ],
      "source": [
        "# Predictions and error analysis\n",
        "predictions = model.predict([test_X_ims, test_X_seqs])\n",
        "\n",
        "for idx in range(num_answers):\n",
        "    pred_values = predictions[:, idx]\n",
        "    answer = all_answers[idx]\n",
        "    print(f'\\nStatistics for answer {idx}, {answer}')\n",
        "    min_val = np.amin(pred_values)\n",
        "    max_val = np.amax(pred_values)\n",
        "    mean_val = np.mean(pred_values)\n",
        "    print(f'Min: {min_val}, Max: {max_val}, Mean: {mean_val}')\n",
        "\n",
        "shapes = []\n",
        "yesno = []\n",
        "for i in range(num_answers):\n",
        "    if (all_answers[i] == 'rectangle' or all_answers[i] == 'circle' or all_answers[i] == 'triangle'):\n",
        "        shapes.append(i)\n",
        "    elif all_answers[i] == 'yes' or all_answers[i] == 'no':\n",
        "        yesno.append(i)\n",
        "\n",
        "def return_class(answer):\n",
        "    if answer in shapes:\n",
        "        return 0\n",
        "    if answer in yesno:\n",
        "        return 1\n",
        "    return 2\n",
        "\n",
        "error_matrix = [[0 for _ in range(3)] for _ in range(3)]\n",
        "total_errors = 0\n",
        "\n"
      ]
    },
    {
      "cell_type": "code",
      "execution_count": 12,
      "metadata": {
        "id": "X7Om6A-JvXYr",
        "colab": {
          "base_uri": "https://localhost:8080/"
        },
        "outputId": "a3bccd33-d21d-4a73-aed8-5a9fb51b9569"
      },
      "outputs": [
        {
          "output_type": "stream",
          "name": "stdout",
          "text": [
            "Accuracy: 0.8610565491574486\n",
            "Macro F1 Score: 0.8485528784886338\n",
            "Confusion Matrix:\n",
            "[[  96    0    0    0    0    0    0  204    0  116    0    0    0]\n",
            " [   0  165    0    0    0    0    0    0    0    0    0    0    0]\n",
            " [   0    0  151    0    0    0    0    0    0    0    5    0    0]\n",
            " [   0    0    0  174    0    1    3    0    0    0    0    0    0]\n",
            " [   0    0    0    0 3259    0    0    0    0    0    0    0  352]\n",
            " [   0    2    0    0    0  147    0    0    0    0    0    0    0]\n",
            " [   0    0    0   16    0    0  139    0    0    0    1    0    0]\n",
            " [ 111    0    0    0    0    0    0  288    0   51    0    0    0]\n",
            " [   0    3    2    0    0    0    1    0  163    0    0    0    0]\n",
            " [  31    0    0    0    0    0    0   93    0  267    0    0    0]\n",
            " [   0    0    0    0    0    0    4    0    0    0  150    0    0]\n",
            " [   0    0    0    4    0    2    0    0    0    0    0  147    0]\n",
            " [   0    0    0    0  342    0    0    0    0    0    0    0 3183]]\n"
          ]
        }
      ],
      "source": [
        "from sklearn.metrics import accuracy_score, f1_score, confusion_matrix\n",
        "\n",
        "predicted_labels = np.argmax(predictions, axis=1)\n",
        "true_labels = test_answer_indices\n",
        "\n",
        "accuracy = accuracy_score(true_labels, predicted_labels)\n",
        "print(f\"Accuracy: {accuracy}\")\n",
        "\n",
        "macro_f1 = f1_score(true_labels, predicted_labels, average=\"macro\")\n",
        "print(f\"Macro F1 Score: {macro_f1}\")\n",
        "\n",
        "conf_matrix = confusion_matrix(true_labels, predicted_labels)\n",
        "print(\"Confusion Matrix:\")\n",
        "print(conf_matrix)"
      ]
    },
    {
      "cell_type": "code",
      "execution_count": 13,
      "metadata": {
        "id": "Uwm1A9Uwxg0t",
        "colab": {
          "base_uri": "https://localhost:8080/",
          "height": 475
        },
        "outputId": "30545aa9-c2be-4830-b036-23c42d899bc5"
      },
      "outputs": [
        {
          "output_type": "stream",
          "name": "stdout",
          "text": [
            "\u001b[1m1/1\u001b[0m \u001b[32m━━━━━━━━━━━━━━━━━━━━\u001b[0m\u001b[37m\u001b[0m \u001b[1m0s\u001b[0m 40ms/step\n"
          ]
        },
        {
          "output_type": "display_data",
          "data": {
            "text/plain": [
              "<Figure size 640x480 with 1 Axes>"
            ],
            "image/png": "[encoded data removed]"
          },
          "metadata": {}
        },
        {
          "output_type": "stream",
          "name": "stdout",
          "text": [
            "Question: what is the red shape?\n",
            "True Answer: triangle\n",
            "Predicted Answer: triangle\n"
          ]
        }
      ],
      "source": [
        "index = 0\n",
        "\n",
        "image = test_X_ims[index]\n",
        "question = test_X_seqs[index]\n",
        "true_answer = all_answers[test_answer_indices[index]]\n",
        "\n",
        "image = image.reshape(1, *im_shape)\n",
        "\n",
        "prediction = model.predict([image, question.reshape(1, -1)])\n",
        "\n",
        "predicted_answer_index = np.argmax(prediction)\n",
        "predicted_answer = all_answers[predicted_answer_index]\n",
        "\n",
        "plt.imshow(image[0] + 0.5)  # Add 0.5 to shift pixel values back to [0, 1]\n",
        "plt.axis('off')  # Turn off axis labels and ticks\n",
        "plt.show()\n",
        "\n",
        "print(f\"Question: {test_qs[index]}\")\n",
        "print(f\"True Answer: {true_answer}\")\n",
        "print(f\"Predicted Answer: {predicted_answer}\")"
      ]
    },
    {
      "cell_type": "code",
      "source": [],
      "metadata": {
        "id": "yIxuQLcCZZQt"
      },
      "execution_count": null,
      "outputs": []
    }
  ],
  "metadata": {
    "colab": {
      "provenance": []
    },
    "kernelspec": {
      "display_name": "Python 3",
      "name": "python3"
    },
    "language_info": {
      "name": "python"
    }
  },
  "nbformat": 4,
  "nbformat_minor": 0
}